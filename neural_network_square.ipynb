{
  "nbformat": 4,
  "nbformat_minor": 0,
  "metadata": {
    "colab": {
      "name": "neural_network square.ipynb",
      "provenance": [],
      "collapsed_sections": [],
      "include_colab_link": true
    },
    "kernelspec": {
      "name": "python3",
      "display_name": "Python 3"
    },
    "accelerator": "GPU"
  },
  "cells": [
    {
      "cell_type": "markdown",
      "metadata": {
        "id": "view-in-github",
        "colab_type": "text"
      },
      "source": [
        "<a href=\"https://colab.research.google.com/github/tseth92/NeuralNet_Square/blob/master/neural_network_square.ipynb\" target=\"_parent\"><img src=\"https://colab.research.google.com/assets/colab-badge.svg\" alt=\"Open In Colab\"/></a>"
      ]
    },
    {
      "cell_type": "code",
      "metadata": {
        "id": "HIXeqqjlZ3wW",
        "colab_type": "code",
        "colab": {}
      },
      "source": [
        "'''Training a neural network to predict the square of a number'''\n",
        "import numpy as np\n",
        "import matplotlib.pyplot as pp\n",
        "from tensorflow import keras\n",
        "from keras.models import Sequential\n",
        "from keras.layers.core import Dense\n",
        "from IPython.display import Audio, display"
      ],
      "execution_count": 0,
      "outputs": []
    },
    {
      "cell_type": "code",
      "metadata": {
        "id": "73c-fnMVr7TB",
        "colab_type": "code",
        "colab": {}
      },
      "source": [
        "'''configurations for neural net'''\n",
        "# change these values to experiment\n",
        "n_samples = 100000   # number of samples between 0 and mid_range\n",
        "epochs = 100         # number of times the full data trains the network params\n",
        "batch_size = 1000    # the amount of data which goes into the network at once\n",
        "mid_range_train = 10 # range within which data is required\n",
        "mid_range_test = 20  # range outside of trained dataset. -10 to +10\n",
        "num_neurons = 10     # number of neurons required in middle layer"
      ],
      "execution_count": 0,
      "outputs": []
    },
    {
      "cell_type": "code",
      "metadata": {
        "id": "RTIRkvt3aAXz",
        "colab_type": "code",
        "colab": {}
      },
      "source": [
        "'''creates random samples of n_samples rows which are between 0 to 1.\n",
        "mid_range decides the range under which the samples will be created.'''\n",
        "def get_data(n_samples, mid_range):\n",
        "  X = np.random.random((n_samples,1))*mid_range-(mid_range/2)\n",
        "  # eg. if n_samples = 10000, mid_range = 10 then it will create samples b/w \n",
        "  # 0 and 5 positive and negative\n",
        "  y = X*X\n",
        "  #print(X)\n",
        "  return X,y"
      ],
      "execution_count": 0,
      "outputs": []
    },
    {
      "cell_type": "code",
      "metadata": {
        "id": "2lFU4s6GiDNW",
        "colab_type": "code",
        "colab": {}
      },
      "source": [
        "''' creating the neural net model of 1:20:1; relu activation, mse as loss and \n",
        "adam optimizer'''\n",
        "def get_model():\n",
        "  model = Sequential()\n",
        "  model.add(Dense(num_neurons, input_shape=(1,), activation='relu'))\n",
        "  model.add(Dense(1))\n",
        "  print(model.summary())\n",
        "  model.compile(loss='mse', optimizer='adam')\n",
        "  return model\n",
        "  "
      ],
      "execution_count": 0,
      "outputs": []
    },
    {
      "cell_type": "code",
      "metadata": {
        "id": "aFjN5De_jCKK",
        "colab_type": "code",
        "colab": {}
      },
      "source": [
        "''' train the model for specified number of epochs, batch_size'''\n",
        "def train_model(X, y, model, epochs, batch_size):\n",
        "  h = model.fit(X, y, validation_split=0.2,\n",
        "               epochs=epochs,\n",
        "               batch_size=batch_size,\n",
        "               verbose=1)\n",
        "  pp.figure(figsize=(15,2.5))\n",
        "  pp.plot(h.history['loss'])\n",
        "  pp.title('Training loss wrt time')\n",
        "  return model"
      ],
      "execution_count": 0,
      "outputs": []
    },
    {
      "cell_type": "code",
      "metadata": {
        "id": "RXLdVodqvWa7",
        "colab_type": "code",
        "colab": {}
      },
      "source": [
        "''' predict the model for X(training data) and or X2 which is outside \n",
        "the training dataset'''\n",
        "def predict_model(X, X2):\n",
        "  pred = model.predict(X)\n",
        "  \n",
        "  pred2 = model.predict(X2)\n",
        "  \n",
        "  # uncomment below code to observe the expected and actual values\n",
        "  # in the form (inputData, expectedOutputData, predictedOutputData, difference)\n",
        "  \n",
        "  #for i,j in zip(X, pred):\n",
        "  #  print(i,i*i,j, j-(i*i))\n",
        "  pp.figure(figsize=(10,3))\n",
        "  pp.plot(X,pred, '.')\n",
        "  pp.xlabel('x')\n",
        "  pp.ylabel('prediction')\n",
        "  pp.title('Prediction within training sample space')\n",
        "  \n",
        "  pp.figure(figsize=(10,3))\n",
        "  pp.plot(X2,pred2, '.')\n",
        "  pp.xlabel('x')\n",
        "  pp.ylabel('prediction')\n",
        "  pp.title('Prediction outside training sample space')"
      ],
      "execution_count": 0,
      "outputs": []
    },
    {
      "cell_type": "code",
      "metadata": {
        "id": "8qPskqFwkYKg",
        "colab_type": "code",
        "outputId": "3ff6a79d-4549-4f87-cbc9-f05dd258be65",
        "colab": {
          "base_uri": "https://localhost:8080/",
          "height": 1000
        }
      },
      "source": [
        "if __name__ == '__main__' :\n",
        "  X_train,y_train = get_data(n_samples, mid_range_train)\n",
        "  X_test,y_test = get_data(n_samples, mid_range_test)\n",
        "  model = get_model()\n",
        "  pp.figure(figsize=(10,3))\n",
        "  pp.plot(X_train, y_train,'.')\n",
        "  pp.title('Original Training Data')\n",
        "  model = train_model(X_train, y_train, model, epochs, batch_size)\n",
        "  predict_model(X_train, X_test)\n",
        "  # below is audio which will fireup(literally :D) when the training and \n",
        "  #prediction completes\n",
        "  display(Audio(url='https://sound.peal.io/ps/audios/000/000/537/ \\\n",
        "                original/woo_vu_luvub_dub_dub.wav', autoplay=True))"
      ],
      "execution_count": 21,
      "outputs": [
        {
          "output_type": "stream",
          "text": [
            "Model: \"sequential_3\"\n",
            "_________________________________________________________________\n",
            "Layer (type)                 Output Shape              Param #   \n",
            "=================================================================\n",
            "dense_5 (Dense)              (None, 10)                20        \n",
            "_________________________________________________________________\n",
            "dense_6 (Dense)              (None, 1)                 11        \n",
            "=================================================================\n",
            "Total params: 31\n",
            "Trainable params: 31\n",
            "Non-trainable params: 0\n",
            "_________________________________________________________________\n",
            "None\n",
            "Train on 80000 samples, validate on 20000 samples\n",
            "Epoch 1/100\n",
            "80000/80000 [==============================] - 1s 7us/step - loss: 116.8134 - val_loss: 105.9256\n",
            "Epoch 2/100\n",
            "80000/80000 [==============================] - 0s 4us/step - loss: 94.4567 - val_loss: 84.9621\n",
            "Epoch 3/100\n",
            "80000/80000 [==============================] - 0s 4us/step - loss: 74.8905 - val_loss: 66.6398\n",
            "Epoch 4/100\n",
            "80000/80000 [==============================] - 0s 4us/step - loss: 58.1802 - val_loss: 51.3049\n",
            "Epoch 5/100\n",
            "80000/80000 [==============================] - 0s 4us/step - loss: 44.4567 - val_loss: 39.0094\n",
            "Epoch 6/100\n",
            "80000/80000 [==============================] - 0s 4us/step - loss: 33.7286 - val_loss: 29.6675\n",
            "Epoch 7/100\n",
            "80000/80000 [==============================] - 0s 5us/step - loss: 25.9118 - val_loss: 23.1507\n",
            "Epoch 8/100\n",
            "80000/80000 [==============================] - 0s 4us/step - loss: 20.6076 - val_loss: 18.7978\n",
            "Epoch 9/100\n",
            "80000/80000 [==============================] - 0s 4us/step - loss: 17.1315 - val_loss: 15.9862\n",
            "Epoch 10/100\n",
            "80000/80000 [==============================] - 0s 4us/step - loss: 14.9026 - val_loss: 14.1666\n",
            "Epoch 11/100\n",
            "80000/80000 [==============================] - 0s 4us/step - loss: 13.4539 - val_loss: 12.9529\n",
            "Epoch 12/100\n",
            "80000/80000 [==============================] - 0s 4us/step - loss: 12.4539 - val_loss: 12.0767\n",
            "Epoch 13/100\n",
            "80000/80000 [==============================] - 0s 4us/step - loss: 11.6926 - val_loss: 11.3792\n",
            "Epoch 14/100\n",
            "80000/80000 [==============================] - 0s 4us/step - loss: 11.0572 - val_loss: 10.7747\n",
            "Epoch 15/100\n",
            "80000/80000 [==============================] - 0s 4us/step - loss: 10.4905 - val_loss: 10.2268\n",
            "Epoch 16/100\n",
            "80000/80000 [==============================] - 0s 5us/step - loss: 9.9672 - val_loss: 9.7160\n",
            "Epoch 17/100\n",
            "80000/80000 [==============================] - 0s 5us/step - loss: 9.4753 - val_loss: 9.2334\n",
            "Epoch 18/100\n",
            "80000/80000 [==============================] - 0s 5us/step - loss: 9.0072 - val_loss: 8.7753\n",
            "Epoch 19/100\n",
            "80000/80000 [==============================] - 0s 4us/step - loss: 8.5589 - val_loss: 8.3341\n",
            "Epoch 20/100\n",
            "80000/80000 [==============================] - 0s 4us/step - loss: 8.1269 - val_loss: 7.9091\n",
            "Epoch 21/100\n",
            "80000/80000 [==============================] - 0s 4us/step - loss: 7.7093 - val_loss: 7.4984\n",
            "Epoch 22/100\n",
            "80000/80000 [==============================] - 0s 4us/step - loss: 7.3060 - val_loss: 7.1007\n",
            "Epoch 23/100\n",
            "80000/80000 [==============================] - 0s 4us/step - loss: 6.9168 - val_loss: 6.7199\n",
            "Epoch 24/100\n",
            "80000/80000 [==============================] - 0s 4us/step - loss: 6.5424 - val_loss: 6.3533\n",
            "Epoch 25/100\n",
            "80000/80000 [==============================] - 0s 4us/step - loss: 6.1826 - val_loss: 6.0007\n",
            "Epoch 26/100\n",
            "80000/80000 [==============================] - 0s 4us/step - loss: 5.8372 - val_loss: 5.6635\n",
            "Epoch 27/100\n",
            "80000/80000 [==============================] - 0s 5us/step - loss: 5.5066 - val_loss: 5.3406\n",
            "Epoch 28/100\n",
            "80000/80000 [==============================] - 0s 4us/step - loss: 5.1905 - val_loss: 5.0320\n",
            "Epoch 29/100\n",
            "80000/80000 [==============================] - 0s 4us/step - loss: 4.8889 - val_loss: 4.7378\n",
            "Epoch 30/100\n",
            "80000/80000 [==============================] - 0s 5us/step - loss: 4.6014 - val_loss: 4.4580\n",
            "Epoch 31/100\n",
            "80000/80000 [==============================] - 0s 4us/step - loss: 4.3280 - val_loss: 4.1923\n",
            "Epoch 32/100\n",
            "80000/80000 [==============================] - 0s 4us/step - loss: 4.0684 - val_loss: 3.9402\n",
            "Epoch 33/100\n",
            "80000/80000 [==============================] - 0s 4us/step - loss: 3.8222 - val_loss: 3.7011\n",
            "Epoch 34/100\n",
            "80000/80000 [==============================] - 0s 4us/step - loss: 3.5893 - val_loss: 3.4764\n",
            "Epoch 35/100\n",
            "80000/80000 [==============================] - 0s 4us/step - loss: 3.3694 - val_loss: 3.2629\n",
            "Epoch 36/100\n",
            "80000/80000 [==============================] - 0s 4us/step - loss: 3.1619 - val_loss: 3.0629\n",
            "Epoch 37/100\n",
            "80000/80000 [==============================] - 0s 4us/step - loss: 2.9670 - val_loss: 2.8748\n",
            "Epoch 38/100\n",
            "80000/80000 [==============================] - 0s 5us/step - loss: 2.7840 - val_loss: 2.6983\n",
            "Epoch 39/100\n",
            "80000/80000 [==============================] - 0s 4us/step - loss: 2.6125 - val_loss: 2.5333\n",
            "Epoch 40/100\n",
            "80000/80000 [==============================] - 0s 4us/step - loss: 2.4523 - val_loss: 2.3791\n",
            "Epoch 41/100\n",
            "80000/80000 [==============================] - 0s 4us/step - loss: 2.3025 - val_loss: 2.2354\n",
            "Epoch 42/100\n",
            "80000/80000 [==============================] - 0s 4us/step - loss: 2.1631 - val_loss: 2.1012\n",
            "Epoch 43/100\n",
            "80000/80000 [==============================] - 0s 4us/step - loss: 2.0332 - val_loss: 1.9766\n",
            "Epoch 44/100\n",
            "80000/80000 [==============================] - 0s 4us/step - loss: 1.9127 - val_loss: 1.8604\n",
            "Epoch 45/100\n",
            "80000/80000 [==============================] - 0s 4us/step - loss: 1.8006 - val_loss: 1.7529\n",
            "Epoch 46/100\n",
            "80000/80000 [==============================] - 0s 4us/step - loss: 1.6964 - val_loss: 1.6529\n",
            "Epoch 47/100\n",
            "80000/80000 [==============================] - 0s 4us/step - loss: 1.5996 - val_loss: 1.5600\n",
            "Epoch 48/100\n",
            "80000/80000 [==============================] - 0s 4us/step - loss: 1.5096 - val_loss: 1.4728\n",
            "Epoch 49/100\n",
            "80000/80000 [==============================] - 0s 4us/step - loss: 1.4256 - val_loss: 1.3923\n",
            "Epoch 50/100\n",
            "80000/80000 [==============================] - 0s 4us/step - loss: 1.3472 - val_loss: 1.3162\n",
            "Epoch 51/100\n",
            "80000/80000 [==============================] - 0s 4us/step - loss: 1.2734 - val_loss: 1.2449\n",
            "Epoch 52/100\n",
            "80000/80000 [==============================] - 0s 4us/step - loss: 1.2042 - val_loss: 1.1774\n",
            "Epoch 53/100\n",
            "80000/80000 [==============================] - 0s 4us/step - loss: 1.1384 - val_loss: 1.1135\n",
            "Epoch 54/100\n",
            "80000/80000 [==============================] - 0s 5us/step - loss: 1.0758 - val_loss: 1.0523\n",
            "Epoch 55/100\n",
            "80000/80000 [==============================] - 0s 4us/step - loss: 1.0162 - val_loss: 0.9940\n",
            "Epoch 56/100\n",
            "80000/80000 [==============================] - 0s 4us/step - loss: 0.9590 - val_loss: 0.9377\n",
            "Epoch 57/100\n",
            "80000/80000 [==============================] - 0s 4us/step - loss: 0.9041 - val_loss: 0.8840\n",
            "Epoch 58/100\n",
            "80000/80000 [==============================] - 0s 4us/step - loss: 0.8519 - val_loss: 0.8326\n",
            "Epoch 59/100\n",
            "80000/80000 [==============================] - 0s 4us/step - loss: 0.8020 - val_loss: 0.7835\n",
            "Epoch 60/100\n",
            "80000/80000 [==============================] - 0s 4us/step - loss: 0.7544 - val_loss: 0.7370\n",
            "Epoch 61/100\n",
            "80000/80000 [==============================] - 0s 4us/step - loss: 0.7096 - val_loss: 0.6930\n",
            "Epoch 62/100\n",
            "80000/80000 [==============================] - 0s 4us/step - loss: 0.6670 - val_loss: 0.6512\n",
            "Epoch 63/100\n",
            "80000/80000 [==============================] - 0s 4us/step - loss: 0.6266 - val_loss: 0.6117\n",
            "Epoch 64/100\n",
            "80000/80000 [==============================] - 0s 5us/step - loss: 0.5885 - val_loss: 0.5741\n",
            "Epoch 65/100\n",
            "80000/80000 [==============================] - 0s 4us/step - loss: 0.5519 - val_loss: 0.5385\n",
            "Epoch 66/100\n",
            "80000/80000 [==============================] - 0s 4us/step - loss: 0.5172 - val_loss: 0.5040\n",
            "Epoch 67/100\n",
            "80000/80000 [==============================] - 0s 4us/step - loss: 0.4838 - val_loss: 0.4713\n",
            "Epoch 68/100\n",
            "80000/80000 [==============================] - 0s 5us/step - loss: 0.4518 - val_loss: 0.4395\n",
            "Epoch 69/100\n",
            "80000/80000 [==============================] - 0s 4us/step - loss: 0.4210 - val_loss: 0.4092\n",
            "Epoch 70/100\n",
            "80000/80000 [==============================] - 0s 4us/step - loss: 0.3915 - val_loss: 0.3803\n",
            "Epoch 71/100\n",
            "80000/80000 [==============================] - 0s 4us/step - loss: 0.3633 - val_loss: 0.3524\n",
            "Epoch 72/100\n",
            "80000/80000 [==============================] - 0s 4us/step - loss: 0.3362 - val_loss: 0.3258\n",
            "Epoch 73/100\n",
            "80000/80000 [==============================] - 0s 4us/step - loss: 0.3103 - val_loss: 0.3007\n",
            "Epoch 74/100\n",
            "80000/80000 [==============================] - 0s 5us/step - loss: 0.2861 - val_loss: 0.2769\n",
            "Epoch 75/100\n",
            "80000/80000 [==============================] - 0s 4us/step - loss: 0.2630 - val_loss: 0.2546\n",
            "Epoch 76/100\n",
            "80000/80000 [==============================] - 0s 4us/step - loss: 0.2415 - val_loss: 0.2337\n",
            "Epoch 77/100\n",
            "80000/80000 [==============================] - 0s 5us/step - loss: 0.2213 - val_loss: 0.2140\n",
            "Epoch 78/100\n",
            "80000/80000 [==============================] - 0s 4us/step - loss: 0.2026 - val_loss: 0.1960\n",
            "Epoch 79/100\n",
            "80000/80000 [==============================] - 0s 4us/step - loss: 0.1852 - val_loss: 0.1791\n",
            "Epoch 80/100\n",
            "80000/80000 [==============================] - 0s 4us/step - loss: 0.1691 - val_loss: 0.1636\n",
            "Epoch 81/100\n",
            "80000/80000 [==============================] - 0s 5us/step - loss: 0.1544 - val_loss: 0.1493\n",
            "Epoch 82/100\n",
            "80000/80000 [==============================] - 0s 5us/step - loss: 0.1408 - val_loss: 0.1363\n",
            "Epoch 83/100\n",
            "80000/80000 [==============================] - 0s 5us/step - loss: 0.1285 - val_loss: 0.1244\n",
            "Epoch 84/100\n",
            "80000/80000 [==============================] - 0s 4us/step - loss: 0.1173 - val_loss: 0.1137\n",
            "Epoch 85/100\n",
            "80000/80000 [==============================] - 0s 4us/step - loss: 0.1072 - val_loss: 0.1040\n",
            "Epoch 86/100\n",
            "80000/80000 [==============================] - 0s 5us/step - loss: 0.0981 - val_loss: 0.0953\n",
            "Epoch 87/100\n",
            "80000/80000 [==============================] - 0s 5us/step - loss: 0.0901 - val_loss: 0.0876\n",
            "Epoch 88/100\n",
            "80000/80000 [==============================] - 0s 5us/step - loss: 0.0828 - val_loss: 0.0808\n",
            "Epoch 89/100\n",
            "80000/80000 [==============================] - 0s 4us/step - loss: 0.0765 - val_loss: 0.0746\n",
            "Epoch 90/100\n",
            "80000/80000 [==============================] - 0s 4us/step - loss: 0.0708 - val_loss: 0.0694\n",
            "Epoch 91/100\n",
            "80000/80000 [==============================] - 0s 5us/step - loss: 0.0658 - val_loss: 0.0644\n",
            "Epoch 92/100\n",
            "80000/80000 [==============================] - 0s 4us/step - loss: 0.0613 - val_loss: 0.0602\n",
            "Epoch 93/100\n",
            "80000/80000 [==============================] - 0s 4us/step - loss: 0.0573 - val_loss: 0.0564\n",
            "Epoch 94/100\n",
            "80000/80000 [==============================] - 0s 5us/step - loss: 0.0538 - val_loss: 0.0530\n",
            "Epoch 95/100\n",
            "80000/80000 [==============================] - 0s 4us/step - loss: 0.0506 - val_loss: 0.0501\n",
            "Epoch 96/100\n",
            "80000/80000 [==============================] - 0s 4us/step - loss: 0.0478 - val_loss: 0.0472\n",
            "Epoch 97/100\n",
            "80000/80000 [==============================] - 0s 4us/step - loss: 0.0453 - val_loss: 0.0448\n",
            "Epoch 98/100\n",
            "80000/80000 [==============================] - 0s 4us/step - loss: 0.0430 - val_loss: 0.0425\n",
            "Epoch 99/100\n",
            "80000/80000 [==============================] - 0s 4us/step - loss: 0.0409 - val_loss: 0.0405\n",
            "Epoch 100/100\n",
            "80000/80000 [==============================] - 0s 4us/step - loss: 0.0390 - val_loss: 0.0388\n"
          ],
          "name": "stdout"
        },
        {
          "output_type": "display_data",
          "data": {
            "text/html": [
              "\n",
              "                <audio controls=\"controls\" autoplay=\"autoplay\">\n",
              "                    <source src=\"https://sound.peal.io/ps/audios/000/000/537/                 original/woo_vu_luvub_dub_dub.wav\" type=\"audio/x-wav\" />\n",
              "                    Your browser does not support the audio element.\n",
              "                </audio>\n",
              "              "
            ],
            "text/plain": [
              "<IPython.lib.display.Audio object>"
            ]
          },
          "metadata": {
            "tags": []
          }
        },
        {
          "output_type": "display_data",
          "data": {
            "image/png": "[encoded data removed]",
            "text/plain": [
              "<Figure size 720x216 with 1 Axes>"
            ]
          },
          "metadata": {
            "tags": []
          }
        },
        {
          "output_type": "display_data",
          "data": {
            "image/png": "[encoded data removed]",
            "text/plain": [
              "<Figure size 1080x180 with 1 Axes>"
            ]
          },
          "metadata": {
            "tags": []
          }
        },
        {
          "output_type": "display_data",
          "data": {
            "image/png": "[encoded data removed]",
            "text/plain": [
              "<Figure size 720x216 with 1 Axes>"
            ]
          },
          "metadata": {
            "tags": []
          }
        },
        {
          "output_type": "display_data",
          "data": {
            "image/png": "[encoded data removed]",
            "text/plain": [
              "<Figure size 720x216 with 1 Axes>"
            ]
          },
          "metadata": {
            "tags": []
          }
        }
      ]
    }
  ]
}