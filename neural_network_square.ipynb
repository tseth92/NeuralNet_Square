{
  "nbformat": 4,
  "nbformat_minor": 0,
  "metadata": {
    "colab": {
      "name": "neural_network square.ipynb",
      "provenance": [],
      "collapsed_sections": [],
      "include_colab_link": true
    },
    "kernelspec": {
      "name": "python3",
      "display_name": "Python 3"
    },
    "accelerator": "GPU"
  },
  "cells": [
    {
      "cell_type": "markdown",
      "metadata": {
        "id": "view-in-github",
        "colab_type": "text"
      },
      "source": [
        "<a href=\"https://colab.research.google.com/github/tseth92/NeuralNet_Square/blob/master/neural_network_square.ipynb\" target=\"_parent\"><img src=\"https://colab.research.google.com/assets/colab-badge.svg\" alt=\"Open In Colab\"/></a>"
      ]
    },
    {
      "cell_type": "code",
      "metadata": {
        "id": "HIXeqqjlZ3wW",
        "colab_type": "code",
        "colab": {
          "base_uri": "https://localhost:8080/",
          "height": 35
        },
        "outputId": "d828dced-c303-4886-fdac-7bffd7c867cd"
      },
      "source": [
        "'''Training a neural network to predict the square of a number'''\n",
        "import numpy as np\n",
        "import matplotlib.pyplot as pp\n",
        "from tensorflow import keras\n",
        "from keras.models import Sequential\n",
        "from keras.layers.core import Dense\n",
        "from IPython.display import Audio, display"
      ],
      "execution_count": 1,
      "outputs": [
        {
          "output_type": "stream",
          "text": [
            "Using TensorFlow backend.\n"
          ],
          "name": "stderr"
        }
      ]
    },
    {
      "cell_type": "code",
      "metadata": {
        "id": "73c-fnMVr7TB",
        "colab_type": "code",
        "colab": {}
      },
      "source": [
        "'''configurations for neural net'''\n",
        "# change these values to experiment\n",
        "n_samples = 100000   # number of samples between 0 and mid_range\n",
        "epochs = 100         # number of times the full data trains the network params\n",
        "batch_size = 1000    # the amount of data which goes into the network at once\n",
        "mid_range_train = 10 # range within which data is required\n",
        "mid_range_test = 20  # range outside of trained dataset. -10 to +10\n",
        "num_neurons = 10     # number of neurons required in middle layer"
      ],
      "execution_count": 0,
      "outputs": []
    },
    {
      "cell_type": "code",
      "metadata": {
        "id": "RTIRkvt3aAXz",
        "colab_type": "code",
        "colab": {}
      },
      "source": [
        "'''creates random samples of n_samples rows which are between 0 to 1.\n",
        "mid_range decides the range under which the samples will be created.'''\n",
        "def get_data(n_samples, mid_range):\n",
        "  X = np.random.random((n_samples,1))*mid_range-(mid_range/2)\n",
        "  # eg. if n_samples = 10000, mid_range = 10 then it will create samples b/w \n",
        "  # 0 and 5 positive and negative\n",
        "  y = X*X\n",
        "  #print(X)\n",
        "  return X,y"
      ],
      "execution_count": 0,
      "outputs": []
    },
    {
      "cell_type": "code",
      "metadata": {
        "id": "2lFU4s6GiDNW",
        "colab_type": "code",
        "colab": {}
      },
      "source": [
        "''' creating the neural net model of 1:20:1; relu activation, mse as loss and \n",
        "adam optimizer'''\n",
        "def get_model():\n",
        "  model = Sequential()\n",
        "  model.add(Dense(num_neurons, input_shape=(1,), activation='relu'))\n",
        "  model.add(Dense(1))\n",
        "  print(model.summary())\n",
        "  model.compile(loss='mse', optimizer='adam')\n",
        "  return model\n",
        "  "
      ],
      "execution_count": 0,
      "outputs": []
    },
    {
      "cell_type": "code",
      "metadata": {
        "id": "aFjN5De_jCKK",
        "colab_type": "code",
        "colab": {}
      },
      "source": [
        "''' train the model for specified number of epochs, batch_size'''\n",
        "def train_model(X, y, model, epochs, batch_size):\n",
        "  h = model.fit(X, y, validation_split=0.2,\n",
        "               epochs=epochs,\n",
        "               batch_size=batch_size,\n",
        "               verbose=0)\n",
        "  pp.figure(figsize=(15,2.5))\n",
        "  pp.plot(h.history['loss'])\n",
        "  pp.title('Training loss wrt time')\n",
        "  return model"
      ],
      "execution_count": 0,
      "outputs": []
    },
    {
      "cell_type": "code",
      "metadata": {
        "id": "RXLdVodqvWa7",
        "colab_type": "code",
        "colab": {}
      },
      "source": [
        "''' predict the model for X(training data) and or X2 which is outside \n",
        "the training dataset'''\n",
        "def predict_model(X, X2):\n",
        "  pred = model.predict(X)\n",
        "  \n",
        "  pred2 = model.predict(X2)\n",
        "  \n",
        "  # uncomment below code to observe the expected and actual values\n",
        "  # in the form (inputData, expectedOutputData, predictedOutputData, difference)\n",
        "  \n",
        "  #for i,j in zip(X, pred):\n",
        "  #  print(i,i*i,j, j-(i*i))\n",
        "  pp.figure(figsize=(10,3))\n",
        "  pp.plot(X,pred, '.')\n",
        "  pp.xlabel('x')\n",
        "  pp.ylabel('prediction')\n",
        "  pp.title('Prediction within training sample space')\n",
        "  \n",
        "  pp.figure(figsize=(10,3))\n",
        "  pp.plot(X2,pred2, '.')\n",
        "  pp.xlabel('x')\n",
        "  pp.ylabel('prediction')\n",
        "  pp.title('Prediction outside training sample space')"
      ],
      "execution_count": 0,
      "outputs": []
    },
    {
      "cell_type": "code",
      "metadata": {
        "id": "8qPskqFwkYKg",
        "colab_type": "code",
        "outputId": "090dc6fd-c0fc-4daa-b7e1-70ecd37fb22a",
        "colab": {
          "base_uri": "https://localhost:8080/",
          "height": 1000
        }
      },
      "source": [
        "if __name__ == '__main__' :\n",
        "  X_train,y_train = get_data(n_samples, mid_range_train)\n",
        "  X_test,y_test = get_data(n_samples, mid_range_test)\n",
        "  model = get_model()\n",
        "  pp.figure(figsize=(10,3))\n",
        "  pp.plot(X_train, y_train,'.')\n",
        "  pp.title('Original Training Data')\n",
        "  model = train_model(X_train, y_train, model, epochs, batch_size)\n",
        "  predict_model(X_train, X_test)\n",
        "  # below is audio which will fireup(literally :D) when the training and \n",
        "  #prediction completes\n",
        "  display(Audio(url='https://sound.peal.io/ps/audios/000/000/537/ \\\n",
        "                original/woo_vu_luvub_dub_dub.wav', autoplay=True))"
      ],
      "execution_count": 8,
      "outputs": [
        {
          "output_type": "stream",
          "text": [
            "Model: \"sequential_2\"\n",
            "_________________________________________________________________\n",
            "Layer (type)                 Output Shape              Param #   \n",
            "=================================================================\n",
            "dense_3 (Dense)              (None, 10)                20        \n",
            "_________________________________________________________________\n",
            "dense_4 (Dense)              (None, 1)                 11        \n",
            "=================================================================\n",
            "Total params: 31\n",
            "Trainable params: 31\n",
            "Non-trainable params: 0\n",
            "_________________________________________________________________\n",
            "None\n"
          ],
          "name": "stdout"
        },
        {
          "output_type": "display_data",
          "data": {
            "text/html": [
              "\n",
              "                <audio controls=\"controls\" autoplay=\"autoplay\">\n",
              "                    <source src=\"https://sound.peal.io/ps/audios/000/000/537/                 original/woo_vu_luvub_dub_dub.wav\" type=\"audio/x-wav\" />\n",
              "                    Your browser does not support the audio element.\n",
              "                </audio>\n",
              "              "
            ],
            "text/plain": [
              "<IPython.lib.display.Audio object>"
            ]
          },
          "metadata": {
            "tags": []
          }
        },
        {
          "output_type": "display_data",
          "data": {
            "image/png": "[encoded data removed]",
            "text/plain": [
              "<Figure size 720x216 with 1 Axes>"
            ]
          },
          "metadata": {
            "tags": []
          }
        },
        {
          "output_type": "display_data",
          "data": {
            "image/png": "[encoded data removed]",
            "text/plain": [
              "<Figure size 1080x180 with 1 Axes>"
            ]
          },
          "metadata": {
            "tags": []
          }
        },
        {
          "output_type": "display_data",
          "data": {
            "image/png": "[encoded data removed]",
            "text/plain": [
              "<Figure size 720x216 with 1 Axes>"
            ]
          },
          "metadata": {
            "tags": []
          }
        },
        {
          "output_type": "display_data",
          "data": {
            "image/png": "[encoded data removed]",
            "text/plain": [
              "<Figure size 720x216 with 1 Axes>"
            ]
          },
          "metadata": {
            "tags": []
          }
        }
      ]
    }
  ]
}